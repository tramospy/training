{
 "cells": [
  {
   "cell_type": "code",
   "execution_count": 34,
   "id": "99d2b253-8907-4a52-a07e-b9c6e2a7895d",
   "metadata": {},
   "outputs": [
    {
     "name": "stdout",
     "output_type": "stream",
     "text": [
      "S a v i n g s\n"
     ]
    }
   ],
   "source": [
    "print(*\"Savings\")"
   ]
  },
  {
   "cell_type": "code",
   "execution_count": 79,
   "id": "b97e10cc-8457-48ae-8fa0-8300697b297b",
   "metadata": {},
   "outputs": [],
   "source": [
    "def taxedincome():\n",
    "    gross_pay = 40000\n",
    "    tax_rate = 0.12\n",
    "    return gross_pay - tax_rate*gross_pay"
   ]
  },
  {
   "cell_type": "code",
   "execution_count": 17,
   "id": "270c29f1-c6fb-4e65-b4ae-229f2343d519",
   "metadata": {},
   "outputs": [
    {
     "data": {
      "text/plain": [
       "35200.0"
      ]
     },
     "execution_count": 17,
     "metadata": {},
     "output_type": "execute_result"
    }
   ],
   "source": [
    "taxedincome()"
   ]
  },
  {
   "cell_type": "code",
   "execution_count": 20,
   "id": "467bb711-df52-4abf-b60f-39cc39e4769d",
   "metadata": {},
   "outputs": [],
   "source": [
    "def savings():\n",
    "    expenses = 10000\n",
    "    taxedincome = 35200\n",
    "    return taxedincome - expenses"
   ]
  },
  {
   "cell_type": "code",
   "execution_count": 21,
   "id": "be64e62f-4b17-404d-a892-85f886dc2f5a",
   "metadata": {},
   "outputs": [
    {
     "data": {
      "text/plain": [
       "25200"
      ]
     },
     "execution_count": 21,
     "metadata": {},
     "output_type": "execute_result"
    }
   ],
   "source": [
    "savings()"
   ]
  },
  {
   "cell_type": "code",
   "execution_count": 36,
   "id": "3a6a4ede-29f1-4996-9e5f-7b6281d4da3d",
   "metadata": {},
   "outputs": [],
   "source": [
    "pass"
   ]
  },
  {
   "cell_type": "code",
   "execution_count": 32,
   "id": "5947573c-c3ec-417c-8d5e-1c8e07efb260",
   "metadata": {},
   "outputs": [
    {
     "name": "stdout",
     "output_type": "stream",
     "text": [
      "M a t e r i a l   W a s t e\n"
     ]
    }
   ],
   "source": [
    "print(*\"Material Waste\")"
   ]
  },
  {
   "cell_type": "code",
   "execution_count": 38,
   "id": "164142bf-3456-43ec-b7ed-e31560743bb4",
   "metadata": {},
   "outputs": [],
   "source": [
    "def materials_consumed():\n",
    "    num_jobs = 4\n",
    "    job_consumption = 10000\n",
    "    return num_jobs*job_consumption\n",
    "    "
   ]
  },
  {
   "cell_type": "code",
   "execution_count": 39,
   "id": "3be7f37f-7e8e-4bb0-bfdf-f023d34ff1cd",
   "metadata": {},
   "outputs": [
    {
     "data": {
      "text/plain": [
       "40000"
      ]
     },
     "execution_count": 39,
     "metadata": {},
     "output_type": "execute_result"
    }
   ],
   "source": [
    "materials_consumed()"
   ]
  },
  {
   "cell_type": "code",
   "execution_count": 67,
   "id": "6bc4201d-e455-4a62-a89a-b4b818f8967e",
   "metadata": {},
   "outputs": [],
   "source": [
    "def materials_waste_withoutunits():\n",
    "    total_material = 50000\n",
    "    materials_consumed = 40000\n",
    "    return total_material - materials_consumed"
   ]
  },
  {
   "cell_type": "code",
   "execution_count": 68,
   "id": "01332714-0995-4c7f-bdfd-0992451a8bac",
   "metadata": {},
   "outputs": [
    {
     "data": {
      "text/plain": [
       "10000"
      ]
     },
     "execution_count": 68,
     "metadata": {},
     "output_type": "execute_result"
    }
   ],
   "source": [
    "materials_waste_withoutunits()"
   ]
  },
  {
   "cell_type": "code",
   "execution_count": 70,
   "id": "a0343eca-e784-48e7-85de-d93376b588ce",
   "metadata": {},
   "outputs": [
    {
     "name": "stdout",
     "output_type": "stream",
     "text": [
      "10000kg\n"
     ]
    }
   ],
   "source": [
    "materials_waste_withoutunits = 10000\n",
    "material_units = \"kg\"\n",
    "print(str(materials_waste_withoutunits)+material_units)"
   ]
  },
  {
   "cell_type": "code",
   "execution_count": 71,
   "id": "880905de-689c-4bf2-ab5b-3f82021554ef",
   "metadata": {},
   "outputs": [],
   "source": [
    "pass"
   ]
  },
  {
   "cell_type": "code",
   "execution_count": 73,
   "id": "627359ee-53b5-4fd0-84b5-266467f78446",
   "metadata": {},
   "outputs": [
    {
     "name": "stdout",
     "output_type": "stream",
     "text": [
      "I n t e r e s t\n"
     ]
    }
   ],
   "source": [
    "print(*\"Interest\")"
   ]
  },
  {
   "cell_type": "code",
   "execution_count": 75,
   "id": "68b945fe-c573-449b-9aa7-6d9701fcd66e",
   "metadata": {},
   "outputs": [],
   "source": [
    "def interest():\n",
    "    principal = 10000\n",
    "    rate = 0.06\n",
    "    periods = 2\n",
    "    return principal + principal*rate*periods"
   ]
  },
  {
   "cell_type": "code",
   "execution_count": 76,
   "id": "b45fff75-57a4-4005-8e3d-6ba9b3347e66",
   "metadata": {},
   "outputs": [
    {
     "data": {
      "text/plain": [
       "11200.0"
      ]
     },
     "execution_count": 76,
     "metadata": {},
     "output_type": "execute_result"
    }
   ],
   "source": [
    "interest()"
   ]
  },
  {
   "cell_type": "code",
   "execution_count": 77,
   "id": "e5e3f8e9-b30e-4750-9914-7f5cf23b2804",
   "metadata": {},
   "outputs": [],
   "source": [
    "pass"
   ]
  },
  {
   "cell_type": "code",
   "execution_count": 78,
   "id": "ff956dfd-15f3-46a5-8e28-39d124d3b427",
   "metadata": {},
   "outputs": [
    {
     "name": "stdout",
     "output_type": "stream",
     "text": [
      "B o d y   M a s s   I n d e x\n"
     ]
    }
   ],
   "source": [
    "print(*\"Body Mass Index\")"
   ]
  },
  {
   "cell_type": "code",
   "execution_count": 82,
   "id": "79c822ad-4f60-4724-a428-843d6a01619a",
   "metadata": {},
   "outputs": [],
   "source": [
    "def weight_in_kg():\n",
    "    weight = 120\n",
    "    return weight*0.453592"
   ]
  },
  {
   "cell_type": "code",
   "execution_count": 83,
   "id": "6eb21323-bcab-4a92-b92b-a72cb4d00652",
   "metadata": {},
   "outputs": [
    {
     "data": {
      "text/plain": [
       "54.431039999999996"
      ]
     },
     "execution_count": 83,
     "metadata": {},
     "output_type": "execute_result"
    }
   ],
   "source": [
    "weight_in_kg()"
   ]
  },
  {
   "cell_type": "code",
   "execution_count": 114,
   "id": "ae56beea-be16-4ad3-a39f-b06d8169c262",
   "metadata": {},
   "outputs": [],
   "source": [
    "def height_in_meters():\n",
    "    feet = 5\n",
    "    inch = 4\n",
    "    return feet * 0.3048 + inch * 0.0254"
   ]
  },
  {
   "cell_type": "code",
   "execution_count": 115,
   "id": "714e1a8f-cd40-4132-8d33-089749e9bbad",
   "metadata": {},
   "outputs": [
    {
     "data": {
      "text/plain": [
       "1.6256"
      ]
     },
     "execution_count": 115,
     "metadata": {},
     "output_type": "execute_result"
    }
   ],
   "source": [
    "height_in_meters()"
   ]
  },
  {
   "cell_type": "code",
   "execution_count": 118,
   "id": "af4ef02f-4156-47c7-ba65-135a23a3dde9",
   "metadata": {},
   "outputs": [],
   "source": [
    "def bmi():\n",
    "    weight_in_kg = 54.431039999999996\n",
    "    height_in_meters = 1.6256\n",
    "    return weight_in_kg/(height_in_meters*height_in_meters)\n",
    "    "
   ]
  },
  {
   "cell_type": "code",
   "execution_count": 119,
   "id": "71680fb7-0805-4afe-840c-727271026431",
   "metadata": {},
   "outputs": [
    {
     "data": {
      "text/plain": [
       "20.597724789199578"
      ]
     },
     "execution_count": 119,
     "metadata": {},
     "output_type": "execute_result"
    }
   ],
   "source": [
    "bmi()"
   ]
  },
  {
   "cell_type": "code",
   "execution_count": 1,
   "id": "916865f5-0b6c-4d0e-b44c-af2ad064c560",
   "metadata": {},
   "outputs": [],
   "source": [
    "pass"
   ]
  }
 ],
 "metadata": {
  "kernelspec": {
   "display_name": "Python 3 (ipykernel)",
   "language": "python",
   "name": "python3"
  },
  "language_info": {
   "codemirror_mode": {
    "name": "ipython",
    "version": 3
   },
   "file_extension": ".py",
   "mimetype": "text/x-python",
   "name": "python",
   "nbconvert_exporter": "python",
   "pygments_lexer": "ipython3",
   "version": "3.9.12"
  }
 },
 "nbformat": 4,
 "nbformat_minor": 5
}
